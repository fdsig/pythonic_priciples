{
 "cells": [
  {
   "cell_type": "code",
   "execution_count": 410,
   "id": "f253432e",
   "metadata": {},
   "outputs": [],
   "source": [
    "import matplotlib.pyplot as plt\n",
    "from functools import reduce\n",
    "import numpy as np\n",
    "import time"
   ]
  },
  {
   "cell_type": "markdown",
   "id": "abf076ff",
   "metadata": {},
   "source": [
    "## Map filter reduce examples\n",
    "from : https://book.pythontips.com/en/latest/map_filter.html\n",
    "### blueprint\n",
    "```python \n",
    "map(func to apply, list_of_inputs)\n",
    "```\n"
   ]
  },
  {
   "cell_type": "code",
   "execution_count": 411,
   "id": "73dc67ac",
   "metadata": {},
   "outputs": [
    {
     "data": {
      "text/plain": [
       "[1, 4, 9, 16, 25, 36, 49, 64, 81]"
      ]
     },
     "execution_count": 411,
     "metadata": {},
     "output_type": "execute_result"
    }
   ],
   "source": [
    "items = list(range(1,10))\n",
    "squared = list(map(lambda x: x**2, items))\n",
    "squared"
   ]
  },
  {
   "cell_type": "markdown",
   "id": "ff18cd7c",
   "metadata": {},
   "source": [
    "## Timed"
   ]
  },
  {
   "cell_type": "code",
   "execution_count": 415,
   "id": "4204709f",
   "metadata": {},
   "outputs": [
    {
     "name": "stdout",
     "output_type": "stream",
     "text": [
      "0.3519289493560791\n"
     ]
    }
   ],
   "source": [
    "t = time.time()\n",
    "for i in range(100000):\n",
    "    items = list(range(1,10))\n",
    "    squared = list(map(lambda x: x**2,items))\n",
    "print(time.time()-t)"
   ]
  },
  {
   "cell_type": "markdown",
   "id": "dfe93744",
   "metadata": {},
   "source": [
    "# Numpy equivalent\n"
   ]
  },
  {
   "cell_type": "code",
   "execution_count": 417,
   "id": "22855740",
   "metadata": {},
   "outputs": [
    {
     "data": {
      "text/plain": [
       "array([ 1,  4,  9, 16, 25, 36, 49, 64, 81])"
      ]
     },
     "execution_count": 417,
     "metadata": {},
     "output_type": "execute_result"
    }
   ],
   "source": [
    "np_items = np.array(items)\n",
    "np_items*np_items"
   ]
  },
  {
   "cell_type": "markdown",
   "id": "12da7df7",
   "metadata": {},
   "source": [
    "# Timed"
   ]
  },
  {
   "cell_type": "code",
   "execution_count": 416,
   "id": "f490d051",
   "metadata": {},
   "outputs": [
    {
     "name": "stdout",
     "output_type": "stream",
     "text": [
      "0.16281795501708984\n"
     ]
    }
   ],
   "source": [
    "t = time.time()\n",
    "for i in range(100000):\n",
    "    np_items = np.array(items)\n",
    "    np_items*np_items\n",
    "print(time.time()-t)"
   ]
  },
  {
   "cell_type": "markdown",
   "id": "2c23ec33",
   "metadata": {},
   "source": [
    "## Filter\n",
    "```python\n",
    "\n",
    "filter(func_true, some_list)\n",
    "```\n",
    "\n",
    "returns item fram list if fuction returns item if fuction returns true\n"
   ]
  },
  {
   "cell_type": "code",
   "execution_count": 389,
   "id": "e9f4a4e7",
   "metadata": {},
   "outputs": [
    {
     "data": {
      "text/plain": [
       "[-5, -4, -3, -2, -1, 0]"
      ]
     },
     "execution_count": 389,
     "metadata": {},
     "output_type": "execute_result"
    }
   ],
   "source": [
    "numbers = list(range(-5,6))\n",
    "negative = list(filter(lambda x: x <=0, numbers))\n",
    "negative"
   ]
  },
  {
   "cell_type": "markdown",
   "id": "0e66f487",
   "metadata": {},
   "source": [
    "## Reduce\n",
    "\n",
    "```python\n",
    "from functools import reduce\n",
    "reduce(func_with_two_terms, rolling_sum)\n",
    "```"
   ]
  },
  {
   "cell_type": "code",
   "execution_count": 453,
   "id": "5fd24b12",
   "metadata": {},
   "outputs": [
    {
     "data": {
      "text/plain": [
       "45"
      ]
     },
     "execution_count": 453,
     "metadata": {},
     "output_type": "execute_result"
    }
   ],
   "source": [
    "numbers = list(range(1,10))\n",
    "reduce((lambda x,y: x+y),numbers)"
   ]
  },
  {
   "cell_type": "code",
   "execution_count": 454,
   "id": "a3058880",
   "metadata": {},
   "outputs": [
    {
     "data": {
      "text/plain": [
       "362880"
      ]
     },
     "execution_count": 454,
     "metadata": {},
     "output_type": "execute_result"
    }
   ],
   "source": [
    "reduce((lambda x,y: x*y), numbers)"
   ]
  },
  {
   "cell_type": "code",
   "execution_count": 455,
   "id": "1bc6965c",
   "metadata": {},
   "outputs": [
    {
     "data": {
      "text/plain": [
       "45"
      ]
     },
     "execution_count": 455,
     "metadata": {},
     "output_type": "execute_result"
    }
   ],
   "source": [
    "np_numbers = np.array([numbers])\n",
    "np_numbers.cumsum()[-1]"
   ]
  },
  {
   "cell_type": "code",
   "execution_count": 456,
   "id": "8f6e0305",
   "metadata": {},
   "outputs": [
    {
     "data": {
      "text/plain": [
       "362880"
      ]
     },
     "execution_count": 456,
     "metadata": {},
     "output_type": "execute_result"
    }
   ],
   "source": [
    "np.cumprod(numbers)[-1]"
   ]
  }
 ],
 "metadata": {
  "kernelspec": {
   "display_name": "Python 3 (ipykernel)",
   "language": "python",
   "name": "python3"
  },
  "language_info": {
   "codemirror_mode": {
    "name": "ipython",
    "version": 3
   },
   "file_extension": ".py",
   "mimetype": "text/x-python",
   "name": "python",
   "nbconvert_exporter": "python",
   "pygments_lexer": "ipython3",
   "version": "3.10.1"
  }
 },
 "nbformat": 4,
 "nbformat_minor": 5
}
