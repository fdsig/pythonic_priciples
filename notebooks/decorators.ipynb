{
 "cells": [
  {
   "cell_type": "markdown",
   "id": "d9ac4c29",
   "metadata": {},
   "source": [
    "# Decorators\n",
    "https://book.pythontips.com/en/latest/decorators.html"
   ]
  },
  {
   "cell_type": "code",
   "execution_count": 4,
   "id": "808c17a7",
   "metadata": {},
   "outputs": [
    {
     "name": "stdout",
     "output_type": "stream",
     "text": [
      "hi None\n"
     ]
    }
   ],
   "source": [
    "def hi(name=None):\n",
    "    return 'hi '+str(name)\n",
    "print(hi())"
   ]
  },
  {
   "cell_type": "code",
   "execution_count": 5,
   "id": "951f0506",
   "metadata": {},
   "outputs": [],
   "source": [
    "greet = hi"
   ]
  },
  {
   "cell_type": "code",
   "execution_count": 6,
   "id": "28c088fe",
   "metadata": {},
   "outputs": [
    {
     "ename": "NameError",
     "evalue": "name 'hi' is not defined",
     "output_type": "error",
     "traceback": [
      "\u001b[0;31m---------------------------------------------------------------------------\u001b[0m",
      "\u001b[0;31mNameError\u001b[0m                                 Traceback (most recent call last)",
      "Input \u001b[0;32mIn [6]\u001b[0m, in \u001b[0;36m<module>\u001b[0;34m\u001b[0m\n\u001b[1;32m      1\u001b[0m \u001b[38;5;28;01mdel\u001b[39;00m hi\n\u001b[0;32m----> 2\u001b[0m \u001b[38;5;28mprint\u001b[39m(\u001b[43mhi\u001b[49m)\n",
      "\u001b[0;31mNameError\u001b[0m: name 'hi' is not defined"
     ]
    }
   ],
   "source": [
    "del hi\n",
    "print(hi)"
   ]
  },
  {
   "cell_type": "code",
   "execution_count": 7,
   "id": "c163d319",
   "metadata": {},
   "outputs": [
    {
     "name": "stdout",
     "output_type": "stream",
     "text": [
      "hi None\n"
     ]
    }
   ],
   "source": [
    "print(greet())"
   ]
  },
  {
   "cell_type": "code",
   "execution_count": 15,
   "id": "1b98b6be",
   "metadata": {},
   "outputs": [],
   "source": [
    "def hello(name='alpha'):\n",
    "    print('this function says hello')\n",
    "    \n",
    "    def greet():\n",
    "        return 'this is a funciton for greeting'\n",
    "    def welcome():\n",
    "        return f'this fuction wlcomes {name}'\n",
    "    print(f'greet = {greet()}, welcom =  {welcome()} then back to hi')\n",
    "    "
   ]
  },
  {
   "cell_type": "code",
   "execution_count": 17,
   "id": "c658e0df",
   "metadata": {},
   "outputs": [
    {
     "name": "stdout",
     "output_type": "stream",
     "text": [
      "this function says hello\n",
      "greet = this is a funciton for greeting, welcom =  this fuction wlcomes beta then back to hi\n"
     ]
    }
   ],
   "source": [
    "hello(name = 'beta')"
   ]
  },
  {
   "cell_type": "markdown",
   "id": "3bd4fcc6",
   "metadata": {},
   "source": [
    "## Returning a function"
   ]
  },
  {
   "cell_type": "code",
   "execution_count": 53,
   "id": "06a33e64",
   "metadata": {},
   "outputs": [],
   "source": [
    "def aloha(name = None):\n",
    "    def greet():\n",
    "        return 'now proceeding with greeting'\n",
    "    def welcome():\n",
    "        return 'now in welcome function'\n",
    "    if name:\n",
    "        return greet, welcome\n",
    "    else:\n",
    "        return welcome,aloha\n",
    "\n",
    "        "
   ]
  },
  {
   "cell_type": "code",
   "execution_count": 58,
   "id": "5f9d1bb2",
   "metadata": {},
   "outputs": [
    {
     "data": {
      "text/plain": [
       "('now proceeding with greeting', 'now in welcome function')"
      ]
     },
     "execution_count": 58,
     "metadata": {},
     "output_type": "execute_result"
    }
   ],
   "source": [
    "hey, again = aloha()\n",
    "hey(), \n",
    "a,b = again('ss')\n",
    "a(),b()"
   ]
  },
  {
   "cell_type": "markdown",
   "id": "1ad29799",
   "metadata": {},
   "source": [
    "## Passing a function"
   ]
  },
  {
   "cell_type": "code",
   "execution_count": 60,
   "id": "04812954",
   "metadata": {},
   "outputs": [],
   "source": [
    "def heya():\n",
    "    return 'a generic greeting'\n",
    "def before_generic(func):\n",
    "    print('before the fomality is ??')\n",
    "    print(func())\n",
    "\n",
    "    \n",
    "    "
   ]
  },
  {
   "cell_type": "code",
   "execution_count": 61,
   "id": "80e8f99f",
   "metadata": {},
   "outputs": [
    {
     "name": "stdout",
     "output_type": "stream",
     "text": [
      "before the fomality is ??\n",
      "a generic greeting\n"
     ]
    }
   ],
   "source": [
    "before_generic(heya)"
   ]
  },
  {
   "cell_type": "markdown",
   "id": "a88a279d",
   "metadata": {},
   "source": [
    "## Decorator"
   ]
  },
  {
   "cell_type": "code",
   "execution_count": 73,
   "id": "e0ebe7be",
   "metadata": {},
   "outputs": [],
   "source": [
    "from functools import wraps\n",
    "def decorated_greeting(func):\n",
    "    def wrapped_greeting():\n",
    "        print('i am waiting for you to say....')\n",
    "        func()\n",
    "        print('i am glad that we have that over and done with')\n",
    "    return wrapped_greeting\n",
    "\n",
    "def a_sleepy_hollow():\n",
    "    print('just a string of nonsensical thinking to abridge mundane activity')\n",
    "    "
   ]
  },
  {
   "cell_type": "code",
   "execution_count": 64,
   "id": "4ad20701",
   "metadata": {},
   "outputs": [
    {
     "name": "stdout",
     "output_type": "stream",
     "text": [
      "just a string of nonsensical thinking to abridge mundane activity\n"
     ]
    }
   ],
   "source": [
    "a_sleepy_hollow()"
   ]
  },
  {
   "cell_type": "code",
   "execution_count": 65,
   "id": "8367656c",
   "metadata": {},
   "outputs": [],
   "source": [
    "a_sleepy_hollow = decorated_greeting(a_sleepy_hollow)"
   ]
  },
  {
   "cell_type": "code",
   "execution_count": 66,
   "id": "2205bf4a",
   "metadata": {},
   "outputs": [
    {
     "name": "stdout",
     "output_type": "stream",
     "text": [
      "i am waiting for you to say....\n",
      "just a string of nonsensical thinking to abridge mundane activity\n",
      "i am glad that we have that over and done with\n"
     ]
    }
   ],
   "source": [
    "a_sleepy_hollow()"
   ]
  },
  {
   "cell_type": "code",
   "execution_count": 71,
   "id": "5de46416",
   "metadata": {},
   "outputs": [],
   "source": [
    "@decorated_greeting\n",
    "def a_sleepy_hollow():\n",
    "    'to be decorated'\n",
    "    print('I am waiting to be decorated by ....')\n",
    "    \n"
   ]
  },
  {
   "cell_type": "code",
   "execution_count": 69,
   "id": "11d00d25",
   "metadata": {},
   "outputs": [
    {
     "name": "stdout",
     "output_type": "stream",
     "text": [
      "i am waiting for you to say....\n",
      "I am waiting to be decorated by ....\n",
      "i am glad that we have that over and done with\n"
     ]
    }
   ],
   "source": [
    "a_sleepy_hollow()"
   ]
  },
  {
   "cell_type": "code",
   "execution_count": 72,
   "id": "5b0a38b4",
   "metadata": {},
   "outputs": [
    {
     "data": {
      "text/plain": [
       "'wrapped_greeting'"
      ]
     },
     "execution_count": 72,
     "metadata": {},
     "output_type": "execute_result"
    }
   ],
   "source": [
    "a_sleepy_hollow.__name__"
   ]
  },
  {
   "cell_type": "code",
   "execution_count": 79,
   "id": "2f6d3346",
   "metadata": {},
   "outputs": [],
   "source": [
    "def some_decorator(func):\n",
    "    @wraps(func)\n",
    "    def a_wrapped_func():\n",
    "        print(f'doing some stuff before executing {func}')\n",
    "        func()\n",
    "        print(f'doing some stuff to recover from what  {func} did')\n",
    "    return a_wrapped_func"
   ]
  },
  {
   "cell_type": "code",
   "execution_count": 80,
   "id": "a92c9093",
   "metadata": {},
   "outputs": [],
   "source": [
    "@some_decorator\n",
    "def a_latent_fuction():\n",
    "    \"\"\"wating for somthing..\"\"\"\n",
    "    print('I am a functin that requrires decoration')\n",
    "    "
   ]
  },
  {
   "cell_type": "code",
   "execution_count": 88,
   "id": "1c049c87",
   "metadata": {},
   "outputs": [],
   "source": [
    "latancy = a_latent_fuction.__name__"
   ]
  },
  {
   "cell_type": "code",
   "execution_count": 90,
   "id": "6bbe258e",
   "metadata": {},
   "outputs": [
    {
     "data": {
      "text/plain": [
       "'a_latent_fuction'"
      ]
     },
     "execution_count": 90,
     "metadata": {},
     "output_type": "execute_result"
    }
   ],
   "source": [
    "latancy"
   ]
  },
  {
   "cell_type": "code",
   "execution_count": null,
   "id": "44893d89",
   "metadata": {},
   "outputs": [],
   "source": []
  }
 ],
 "metadata": {
  "kernelspec": {
   "display_name": "Python 3 (ipykernel)",
   "language": "python",
   "name": "python3"
  },
  "language_info": {
   "codemirror_mode": {
    "name": "ipython",
    "version": 3
   },
   "file_extension": ".py",
   "mimetype": "text/x-python",
   "name": "python",
   "nbconvert_exporter": "python",
   "pygments_lexer": "ipython3",
   "version": "3.10.1"
  }
 },
 "nbformat": 4,
 "nbformat_minor": 5
}
